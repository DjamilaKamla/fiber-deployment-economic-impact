{
 "cells": [
  {
   "cell_type": "code",
   "execution_count": 2,
   "id": "f1266059",
   "metadata": {},
   "outputs": [],
   "source": [
    "import pandas as pd"
   ]
  },
  {
   "cell_type": "code",
   "execution_count": 9,
   "id": "7ad78ce8",
   "metadata": {},
   "outputs": [
    {
     "name": "stdout",
     "output_type": "stream",
     "text": [
      "  INSEE_COM                   LIBGEO                         LIBDENS zone_type\n",
      "0     01001  L'Abergement-Clémenciat        Rural à habitat dispersé     Rural\n",
      "1     01002    L'Abergement-de-Varey        Rural à habitat dispersé     Rural\n",
      "2     01004        Ambérieu-en-Bugey  Centres urbains intermédiaires    Urbain\n",
      "3     01005      Ambérieux-en-Dombes                   Bourgs ruraux     Rural\n",
      "4     01006                  Ambléon        Rural à habitat dispersé     Rural\n"
     ]
    }
   ],
   "source": [
    "# === 1. Charger les données correctement (ligne 5 = header → index 4) ===\n",
    "df_densite = pd.read_excel(\n",
    "    \"C:/Users/fares/OneDrive/Desktop/Mémoire/popul/grille_densite_7_niveaux_2024.xlsx\",\n",
    "    header=4\n",
    ")\n",
    "\n",
    "# === 2. Renommer les colonnes pour standardiser ===\n",
    "df_densite = df_densite.rename(columns={\"CODGEO\": \"INSEE_COM\"})\n",
    "\n",
    "# === 3. Créer la fonction de classification à 3 groupes ===\n",
    "def classify_zone(libdens):\n",
    "    if \"urbains intermédiaires\" in libdens.lower() or \"ceintures urbaines\" in libdens.lower():\n",
    "        return \"Urbain\"\n",
    "    elif \"petites villes\" in libdens.lower():\n",
    "        return \"Mixte\"\n",
    "    elif \"rural\" in libdens.lower() or \"bourgs ruraux\" in libdens.lower():\n",
    "        return \"Rural\"\n",
    "    else:\n",
    "        return \"Inconnu\"\n",
    "\n",
    "# === 4. Appliquer la classification ===\n",
    "df_densite[\"zone_type\"] = df_densite[\"LIBDENS\"].apply(classify_zone)\n",
    "\n",
    "# === 5. Vérification rapide ===\n",
    "print(df_densite[[\"INSEE_COM\", \"LIBGEO\", \"LIBDENS\", \"zone_type\"]].head())\n",
    "\n"
   ]
  }
 ],
 "metadata": {
  "kernelspec": {
   "display_name": "Python 3 (ipykernel)",
   "language": "python",
   "name": "python3"
  },
  "language_info": {
   "codemirror_mode": {
    "name": "ipython",
    "version": 3
   },
   "file_extension": ".py",
   "mimetype": "text/x-python",
   "name": "python",
   "nbconvert_exporter": "python",
   "pygments_lexer": "ipython3",
   "version": "3.11.5"
  }
 },
 "nbformat": 4,
 "nbformat_minor": 5
}

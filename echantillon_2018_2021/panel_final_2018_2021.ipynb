{
 "cells": [
  {
   "cell_type": "code",
   "execution_count": 2,
   "id": "f60a79bd",
   "metadata": {},
   "outputs": [
    {
     "name": "stdout",
     "output_type": "stream",
     "text": [
      "Répertoire actuel : C:\\Users\\fares\\OneDrive\\Desktop\\Mémoire\n"
     ]
    }
   ],
   "source": [
    "import os\n",
    "os.chdir(r\"C:\\Users\\fares\\OneDrive\\Desktop\\Mémoire\")\n",
    "print(\"Répertoire actuel :\", os.getcwd())\n"
   ]
  },
  {
   "cell_type": "code",
   "execution_count": 6,
   "id": "804e62d5",
   "metadata": {},
   "outputs": [
    {
     "name": "stdout",
     "output_type": "stream",
     "text": [
      "📁 Fibre :\n",
      "['INSEE_COM', 'Fibre_it', 'annee'] \n",
      "\n",
      "📁 Chômage :\n",
      "['INSEE_COM', 'annee', 'nb_chomeurs'] \n",
      "\n",
      "📁 Population :\n",
      "['INSEE_COM', 'annee_utilisation', 'population'] \n",
      "\n",
      "📁 FiLoSoFi :\n",
      "['INSEE_COM', 'pop_fiscale', 'med_nivvie', 'part_imposés', 'pauvrete', 'part_salaires', 'part_chomage', 'part_pensions', 'part_patrimoine', 'part_social', 'part_impots', 'd1_nivvie', 'd9_nivvie', 'ratio_d9_d1', 'annee'] \n",
      "\n",
      "📁 Densité :\n",
      "['INSEE_COM', 'LIBGEO', 'DENS', 'LIBDENS', 'PMUN21', 'P1', 'P2', 'P3', 'P4', 'P5', 'P6', 'P7', 'zone_type'] \n",
      "\n",
      "📁 Entreprise :\n",
      "['INSEE_COM', 'annee', 'nb_creations'] \n",
      "\n"
     ]
    },
    {
     "name": "stderr",
     "output_type": "stream",
     "text": [
      "C:\\Users\\fares\\AppData\\Local\\Temp\\ipykernel_9240\\2722968121.py:7: DtypeWarning: Columns (0) have mixed types. Specify dtype option on import or set low_memory=False.\n",
      "  df_filo = pd.read_csv(\"filo_total_2018_2021.csv\")\n"
     ]
    }
   ],
   "source": [
    "import pandas as pd\n",
    "\n",
    "# === 1. Chargement des fichiers ===\n",
    "df_fibre = pd.read_csv(\"panel_fibre_it_2018_2024.csv\")\n",
    "df_chomage = pd.read_csv(\"chomage.csv\")\n",
    "df_pop = pd.read_csv(\"population.csv\")\n",
    "df_filo = pd.read_csv(\"filo_total_2018_2021.csv\")\n",
    "df_densite = pd.read_csv(\"densite.csv\")\n",
    "df_ent_long = pd.read_csv(\"df_ent_long_2018_2023.csv\")\n",
    "\n",
    "# === 2. Affichage des colonnes ===\n",
    "print(\"📁 Fibre :\")\n",
    "print(df_fibre.columns.to_list(), \"\\n\")\n",
    "\n",
    "print(\"📁 Chômage :\")\n",
    "print(df_chomage.columns.to_list(), \"\\n\")\n",
    "\n",
    "print(\"📁 Population :\")\n",
    "print(df_pop.columns.to_list(), \"\\n\")\n",
    "\n",
    "print(\"📁 FiLoSoFi :\")\n",
    "print(df_filo.columns.to_list(), \"\\n\")\n",
    "\n",
    "print(\"📁 Densité :\")\n",
    "print(df_densite.columns.to_list(), \"\\n\")\n",
    "\n",
    "print(\"📁 Entreprise :\")\n",
    "print(df_ent_long.columns.to_list(), \"\\n\")\n"
   ]
  },
  {
   "cell_type": "code",
   "execution_count": 7,
   "id": "c190ec12",
   "metadata": {},
   "outputs": [
    {
     "name": "stdout",
     "output_type": "stream",
     "text": [
      "Index(['INSEE_COM', 'annee_utilisation', 'population_recensee'], dtype='object')\n"
     ]
    }
   ],
   "source": [
    "# Renommer proprement la colonne\n",
    "df_pop = df_pop.rename(columns={\"population\": \"population_recensee\"})\n",
    "\n",
    "# Vérification\n",
    "print(df_pop.columns)"
   ]
  },
  {
   "cell_type": "code",
   "execution_count": 8,
   "id": "f300549f",
   "metadata": {},
   "outputs": [
    {
     "name": "stdout",
     "output_type": "stream",
     "text": [
      "  INSEE_COM zone_type_2021\n",
      "0     01001          Rural\n",
      "1     01002          Rural\n",
      "2     01004         Urbain\n",
      "3     01005          Rural\n",
      "4     01006          Rural\n"
     ]
    }
   ],
   "source": [
    "# Garder seulement les colonnes utiles\n",
    "df_zone = df_densite[[\"INSEE_COM\", \"zone_type\"]].copy()\n",
    "\n",
    "# Renommer la zone\n",
    "df_zone = df_zone.rename(columns={\"zone_type\": \"zone_type_2021\"})\n",
    "\n",
    "# Vérification\n",
    "print(df_zone.head())"
   ]
  },
  {
   "cell_type": "code",
   "execution_count": 12,
   "id": "914c7773",
   "metadata": {},
   "outputs": [],
   "source": [
    "df_fibre = df_fibre[df_fibre[\"annee\"].between(2018, 2021)]\n",
    "df_chomage = df_chomage[df_chomage[\"annee\"].between(2018, 2021)]\n",
    "df_pop = df_pop[df_pop[\"annee_utilisation\"].between(2018, 2021)]\n",
    "df_filo = df_filo[df_filo[\"annee\"].between(2018, 2021)]\n",
    "df_ent_long = df_ent_long[df_ent_long[\"annee\"].between(2018, 2021)]"
   ]
  },
  {
   "cell_type": "code",
   "execution_count": 13,
   "id": "bfc981e3",
   "metadata": {},
   "outputs": [],
   "source": [
    "# 1. Renommer proprement\n",
    "df_pop = df_pop.rename(columns={\"annee_utilisation\": \"annee\", \"population\": \"population_recensee\"})\n",
    "\n",
    "# 2. Harmoniser les codes communes\n",
    "for df in [df_fibre, df_chomage, df_pop, df_filo, df_ent_long, df_zone]:\n",
    "    df[\"INSEE_COM\"] = df[\"INSEE_COM\"].astype(str).str.zfill(5)\n",
    "\n"
   ]
  },
  {
   "cell_type": "code",
   "execution_count": 41,
   "id": "1eeff10e",
   "metadata": {},
   "outputs": [],
   "source": [
    "# === 4. Fusion progressive ===\n",
    "df_panel = df_fibre.merge(df_chomage, on=[\"INSEE_COM\", \"annee\"], how=\"left\")\n",
    "df_panel = df_panel.merge(df_pop, on=[\"INSEE_COM\", \"annee\"], how=\"left\")\n",
    "df_panel = df_panel.merge(df_filo, on=[\"INSEE_COM\", \"annee\"], how=\"left\")\n",
    "df_panel = df_panel.merge(df_zone.rename(columns={\"zone_type\": \"zone_type_2021\"}), on=\"INSEE_COM\", how=\"left\")\n",
    "df_panel = df_panel.merge(df_ent_long, on=[\"INSEE_COM\", \"annee\"], how=\"left\")"
   ]
  },
  {
   "cell_type": "code",
   "execution_count": 42,
   "id": "73b5a7cc",
   "metadata": {},
   "outputs": [],
   "source": [
    "colonnes_exclues = [\"INSEE_COM\", \"zone_type_2021\"]\n",
    "\n",
    "# conversion en numérique\n",
    "for col in df_panel.columns:\n",
    "    if col not in colonnes_exclues:\n",
    "        df_panel[col] = pd.to_numeric(df_panel[col], errors=\"coerce\")\n",
    "\n"
   ]
  },
  {
   "cell_type": "code",
   "execution_count": 43,
   "id": "3caa606c",
   "metadata": {},
   "outputs": [],
   "source": [
    "# === 5. Création des indicateurs économiques ===\n",
    "df_panel[\"taux_chomage_fiscal\"] = (df_panel[\"nb_chomeurs\"] / df_panel[\"pop_fiscale\"]) * 100\n",
    "df_panel[\"taux_chomage_INSEE\"] = (df_panel[\"nb_chomeurs\"] / df_panel[\"population_recensee\"]) * 100\n",
    "df_panel[\"tx_crea_ent_fiscale\"] = (df_panel[\"nb_creations\"] / df_panel[\"pop_fiscale\"]) * 1000\n",
    "df_panel[\"tx_crea_ent_recensee\"] = (df_panel[\"nb_creations\"] / df_panel[\"population_recensee\"]) * 1000\n",
    "\n"
   ]
  },
  {
   "cell_type": "code",
   "execution_count": 44,
   "id": "0c442870",
   "metadata": {},
   "outputs": [
    {
     "data": {
      "text/html": [
       "<div>\n",
       "<style scoped>\n",
       "    .dataframe tbody tr th:only-of-type {\n",
       "        vertical-align: middle;\n",
       "    }\n",
       "\n",
       "    .dataframe tbody tr th {\n",
       "        vertical-align: top;\n",
       "    }\n",
       "\n",
       "    .dataframe thead th {\n",
       "        text-align: right;\n",
       "    }\n",
       "</style>\n",
       "<table border=\"1\" class=\"dataframe\">\n",
       "  <thead>\n",
       "    <tr style=\"text-align: right;\">\n",
       "      <th></th>\n",
       "      <th>INSEE_COM</th>\n",
       "      <th>Fibre_it</th>\n",
       "      <th>annee</th>\n",
       "      <th>nb_chomeurs</th>\n",
       "      <th>population_recensee</th>\n",
       "      <th>pop_fiscale</th>\n",
       "      <th>med_nivvie</th>\n",
       "      <th>part_imposés</th>\n",
       "      <th>pauvrete</th>\n",
       "      <th>part_salaires</th>\n",
       "      <th>...</th>\n",
       "      <th>part_impots</th>\n",
       "      <th>d1_nivvie</th>\n",
       "      <th>d9_nivvie</th>\n",
       "      <th>ratio_d9_d1</th>\n",
       "      <th>zone_type_2021</th>\n",
       "      <th>nb_creations</th>\n",
       "      <th>taux_chomage_fiscal</th>\n",
       "      <th>taux_chomage_INSEE</th>\n",
       "      <th>tx_crea_ent_fiscale</th>\n",
       "      <th>tx_crea_ent_recensee</th>\n",
       "    </tr>\n",
       "  </thead>\n",
       "  <tbody>\n",
       "    <tr>\n",
       "      <th>0</th>\n",
       "      <td>01001</td>\n",
       "      <td>0</td>\n",
       "      <td>2018</td>\n",
       "      <td>35.0</td>\n",
       "      <td>767.0</td>\n",
       "      <td>808.0</td>\n",
       "      <td>25350.0</td>\n",
       "      <td>NaN</td>\n",
       "      <td>NaN</td>\n",
       "      <td>NaN</td>\n",
       "      <td>...</td>\n",
       "      <td>NaN</td>\n",
       "      <td>NaN</td>\n",
       "      <td>NaN</td>\n",
       "      <td>NaN</td>\n",
       "      <td>Rural</td>\n",
       "      <td>7.0</td>\n",
       "      <td>4.331683</td>\n",
       "      <td>4.563233</td>\n",
       "      <td>8.663366</td>\n",
       "      <td>9.126467</td>\n",
       "    </tr>\n",
       "    <tr>\n",
       "      <th>1</th>\n",
       "      <td>01001</td>\n",
       "      <td>0</td>\n",
       "      <td>2019</td>\n",
       "      <td>40.0</td>\n",
       "      <td>767.0</td>\n",
       "      <td>819.0</td>\n",
       "      <td>23970.0</td>\n",
       "      <td>NaN</td>\n",
       "      <td>NaN</td>\n",
       "      <td>NaN</td>\n",
       "      <td>...</td>\n",
       "      <td>NaN</td>\n",
       "      <td>NaN</td>\n",
       "      <td>NaN</td>\n",
       "      <td>NaN</td>\n",
       "      <td>Rural</td>\n",
       "      <td>6.0</td>\n",
       "      <td>4.884005</td>\n",
       "      <td>5.215124</td>\n",
       "      <td>7.326007</td>\n",
       "      <td>7.822686</td>\n",
       "    </tr>\n",
       "    <tr>\n",
       "      <th>2</th>\n",
       "      <td>01001</td>\n",
       "      <td>0</td>\n",
       "      <td>2020</td>\n",
       "      <td>40.0</td>\n",
       "      <td>776.0</td>\n",
       "      <td>842.0</td>\n",
       "      <td>24820.0</td>\n",
       "      <td>NaN</td>\n",
       "      <td>NaN</td>\n",
       "      <td>NaN</td>\n",
       "      <td>...</td>\n",
       "      <td>NaN</td>\n",
       "      <td>NaN</td>\n",
       "      <td>NaN</td>\n",
       "      <td>NaN</td>\n",
       "      <td>Rural</td>\n",
       "      <td>10.0</td>\n",
       "      <td>4.750594</td>\n",
       "      <td>5.154639</td>\n",
       "      <td>11.876485</td>\n",
       "      <td>12.886598</td>\n",
       "    </tr>\n",
       "    <tr>\n",
       "      <th>3</th>\n",
       "      <td>01001</td>\n",
       "      <td>0</td>\n",
       "      <td>2021</td>\n",
       "      <td>45.0</td>\n",
       "      <td>771.0</td>\n",
       "      <td>895.0</td>\n",
       "      <td>25820.0</td>\n",
       "      <td>NaN</td>\n",
       "      <td>NaN</td>\n",
       "      <td>NaN</td>\n",
       "      <td>...</td>\n",
       "      <td>NaN</td>\n",
       "      <td>NaN</td>\n",
       "      <td>NaN</td>\n",
       "      <td>NaN</td>\n",
       "      <td>Rural</td>\n",
       "      <td>7.0</td>\n",
       "      <td>5.027933</td>\n",
       "      <td>5.836576</td>\n",
       "      <td>7.821229</td>\n",
       "      <td>9.079118</td>\n",
       "    </tr>\n",
       "    <tr>\n",
       "      <th>4</th>\n",
       "      <td>01002</td>\n",
       "      <td>1</td>\n",
       "      <td>2018</td>\n",
       "      <td>25.0</td>\n",
       "      <td>241.0</td>\n",
       "      <td>255.0</td>\n",
       "      <td>23890.0</td>\n",
       "      <td>NaN</td>\n",
       "      <td>NaN</td>\n",
       "      <td>NaN</td>\n",
       "      <td>...</td>\n",
       "      <td>NaN</td>\n",
       "      <td>NaN</td>\n",
       "      <td>NaN</td>\n",
       "      <td>NaN</td>\n",
       "      <td>Rural</td>\n",
       "      <td>3.0</td>\n",
       "      <td>9.803922</td>\n",
       "      <td>10.373444</td>\n",
       "      <td>11.764706</td>\n",
       "      <td>12.448133</td>\n",
       "    </tr>\n",
       "  </tbody>\n",
       "</table>\n",
       "<p>5 rows × 24 columns</p>\n",
       "</div>"
      ],
      "text/plain": [
       "  INSEE_COM  Fibre_it  annee  nb_chomeurs  population_recensee  pop_fiscale  \\\n",
       "0     01001         0   2018         35.0                767.0        808.0   \n",
       "1     01001         0   2019         40.0                767.0        819.0   \n",
       "2     01001         0   2020         40.0                776.0        842.0   \n",
       "3     01001         0   2021         45.0                771.0        895.0   \n",
       "4     01002         1   2018         25.0                241.0        255.0   \n",
       "\n",
       "   med_nivvie  part_imposés  pauvrete  part_salaires  ...  part_impots  \\\n",
       "0     25350.0           NaN       NaN            NaN  ...          NaN   \n",
       "1     23970.0           NaN       NaN            NaN  ...          NaN   \n",
       "2     24820.0           NaN       NaN            NaN  ...          NaN   \n",
       "3     25820.0           NaN       NaN            NaN  ...          NaN   \n",
       "4     23890.0           NaN       NaN            NaN  ...          NaN   \n",
       "\n",
       "   d1_nivvie  d9_nivvie  ratio_d9_d1  zone_type_2021  nb_creations  \\\n",
       "0        NaN        NaN          NaN           Rural           7.0   \n",
       "1        NaN        NaN          NaN           Rural           6.0   \n",
       "2        NaN        NaN          NaN           Rural          10.0   \n",
       "3        NaN        NaN          NaN           Rural           7.0   \n",
       "4        NaN        NaN          NaN           Rural           3.0   \n",
       "\n",
       "   taux_chomage_fiscal  taux_chomage_INSEE tx_crea_ent_fiscale  \\\n",
       "0             4.331683            4.563233            8.663366   \n",
       "1             4.884005            5.215124            7.326007   \n",
       "2             4.750594            5.154639           11.876485   \n",
       "3             5.027933            5.836576            7.821229   \n",
       "4             9.803922           10.373444           11.764706   \n",
       "\n",
       "   tx_crea_ent_recensee  \n",
       "0              9.126467  \n",
       "1              7.822686  \n",
       "2             12.886598  \n",
       "3              9.079118  \n",
       "4             12.448133  \n",
       "\n",
       "[5 rows x 24 columns]"
      ]
     },
     "execution_count": 44,
     "metadata": {},
     "output_type": "execute_result"
    }
   ],
   "source": [
    "df_panel.head()\n"
   ]
  },
  {
   "cell_type": "code",
   "execution_count": 46,
   "id": "ebb9f4dd",
   "metadata": {},
   "outputs": [],
   "source": [
    "df_panel.to_excel(\"df_panel_2018_2021.xlsx\", index=False)"
   ]
  }
 ],
 "metadata": {
  "kernelspec": {
   "display_name": "Python 3 (ipykernel)",
   "language": "python",
   "name": "python3"
  },
  "language_info": {
   "codemirror_mode": {
    "name": "ipython",
    "version": 3
   },
   "file_extension": ".py",
   "mimetype": "text/x-python",
   "name": "python",
   "nbconvert_exporter": "python",
   "pygments_lexer": "ipython3",
   "version": "3.11.5"
  }
 },
 "nbformat": 4,
 "nbformat_minor": 5
}

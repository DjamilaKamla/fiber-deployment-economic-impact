{
 "cells": [
  {
   "cell_type": "code",
   "execution_count": 1,
   "id": "31c965f7",
   "metadata": {},
   "outputs": [
    {
     "name": "stdout",
     "output_type": "stream",
     "text": [
      "Répertoire actuel : C:\\Users\\fares\\OneDrive\\Desktop\\Mémoire\n"
     ]
    }
   ],
   "source": [
    "import os\n",
    "os.chdir(r\"C:\\Users\\fares\\OneDrive\\Desktop\\Mémoire\")\n",
    "print(\"Répertoire actuel :\", os.getcwd())"
   ]
  },
  {
   "cell_type": "code",
   "execution_count": 6,
   "id": "05950c4d",
   "metadata": {},
   "outputs": [
    {
     "name": "stderr",
     "output_type": "stream",
     "text": [
      "C:\\Users\\fares\\anaconda3\\Lib\\site-packages\\openpyxl\\styles\\stylesheet.py:226: UserWarning: Workbook contains no default style, apply openpyxl's default\n",
      "  warn(\"Workbook contains no default style, apply openpyxl's default\")\n"
     ]
    },
    {
     "name": "stdout",
     "output_type": "stream",
     "text": [
      "  INSEE_COM  annee  nb_creations\n",
      "0     01001   2018           7.0\n",
      "1     01002   2018           3.0\n",
      "2     01004   2018         137.0\n",
      "3     01005   2018          17.0\n",
      "4     01006   2018           2.0\n",
      "Dimensions : (209622, 3)\n"
     ]
    }
   ],
   "source": [
    "import pandas as pd\n",
    "\n",
    "df_ent = pd.read_excel(\n",
    "    r\"C:\\Users\\fares\\OneDrive\\Desktop\\Mémoire\\ent\\TAB_SIDE_CREA_ENT_COM_HISTO_fr.xlsx\",\n",
    "    sheet_name=\"COM\",\n",
    "    header=3  # ← lit la ligne 3 comme entête (index 2)\n",
    ")\n",
    "\n",
    "\n",
    "# === 2. Renommer la première colonne s’il le faut ===\n",
    "df_ent = df_ent.rename(columns={df_ent.columns[0]: \"INSEE_COM\"})\n",
    "\n",
    "# === 3. Garder les colonnes de 2018 à 2023 seulement\n",
    "colonnes_utiles = [\"INSEE_COM\"] + [str(a) for a in range(2018, 2024)]\n",
    "df_ent = df_ent[colonnes_utiles]\n",
    "\n",
    "# === 4. Reshape large → long\n",
    "df_ent_long = df_ent.melt(id_vars=\"INSEE_COM\", var_name=\"annee\", value_name=\"nb_creations\")\n",
    "\n",
    "# === 5. Nettoyage\n",
    "df_ent_long[\"INSEE_COM\"] = df_ent_long[\"INSEE_COM\"].astype(str).str.zfill(5)\n",
    "df_ent_long[\"annee\"] = df_ent_long[\"annee\"].astype(int)\n",
    "\n",
    "# === 6. Vérification\n",
    "print(df_ent_long.head())\n",
    "print(\"Dimensions :\", df_ent_long.shape)\n"
   ]
  },
  {
   "cell_type": "code",
   "execution_count": 7,
   "id": "8ccbbd0a",
   "metadata": {},
   "outputs": [],
   "source": [
    "df_ent_long.to_csv(r\"C:\\Users\\fares\\OneDrive\\Desktop\\Mémoire\\df_ent_long.csv\", index=False)\n"
   ]
  }
 ],
 "metadata": {
  "kernelspec": {
   "display_name": "Python 3 (ipykernel)",
   "language": "python",
   "name": "python3"
  },
  "language_info": {
   "codemirror_mode": {
    "name": "ipython",
    "version": 3
   },
   "file_extension": ".py",
   "mimetype": "text/x-python",
   "name": "python",
   "nbconvert_exporter": "python",
   "pygments_lexer": "ipython3",
   "version": "3.11.5"
  }
 },
 "nbformat": 4,
 "nbformat_minor": 5
}
